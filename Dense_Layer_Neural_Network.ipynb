{
 "cells": [
  {
   "cell_type": "markdown",
   "id": "a7002378-7044-4edd-8a5f-09a5f7381eee",
   "metadata": {},
   "source": [
    "# Time Series Dense DNN Algorithm\n",
    "\n",
    "This algorithm is used to forecast FOREX prices for the EURUSD pair. It fetches data from MetaTrader5 and applies feature engineering to create additional data.\n",
    "\n",
    "The forecasted values are set to:\n",
    "- **Position 1** if the prediction indicates that the price will go up in the next hour\n",
    "- **Position 0** if the prediction indicates that the price will go down in the nex hourx hour"
   ]
  },
  {
   "cell_type": "code",
   "execution_count": 3,
   "id": "4a1ca64f-27c2-4041-82de-b2a7abf9654f",
   "metadata": {},
   "outputs": [],
   "source": [
    "import numpy as np\n",
    "import pandas as pd\n",
    "import matplotlib.pyplot as plt\n",
    "plt.style.use(\"seaborn-v0_8-darkgrid\")\n",
    "import warnings\n",
    "warnings.filterwarnings(\"ignore\")\n",
    "import ta\n",
    "import MetaTrader5 as mt5\n",
    "from datetime import datetime\n",
    "from UsefulFunctions import data, backtest"
   ]
  },
  {
   "cell_type": "code",
   "execution_count": null,
   "id": "80a74021-b0bc-4423-9ea3-ff4fe7b16fa3",
   "metadata": {},
   "outputs": [],
   "source": []
  }
 ],
 "metadata": {
  "kernelspec": {
   "display_name": "Python 3 (ipykernel)",
   "language": "python",
   "name": "python3"
  },
  "language_info": {
   "codemirror_mode": {
    "name": "ipython",
    "version": 3
   },
   "file_extension": ".py",
   "mimetype": "text/x-python",
   "name": "python",
   "nbconvert_exporter": "python",
   "pygments_lexer": "ipython3",
   "version": "3.12.4"
  }
 },
 "nbformat": 4,
 "nbformat_minor": 5
}
